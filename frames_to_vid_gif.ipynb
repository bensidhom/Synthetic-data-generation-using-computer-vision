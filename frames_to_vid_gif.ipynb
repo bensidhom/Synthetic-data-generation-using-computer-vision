{
 "cells": [
  {
   "cell_type": "code",
   "execution_count": 5,
   "metadata": {},
   "outputs": [
    {
     "name": "stdout",
     "output_type": "stream",
     "text": [
      "Collecting opencv-python\n",
      "  Downloading opencv_python-4.10.0.84-cp37-abi3-win_amd64.whl.metadata (20 kB)\n",
      "Requirement already satisfied: numpy>=1.21.2 in c:\\users\\bensid28\\appdata\\local\\anaconda3\\lib\\site-packages (from opencv-python) (1.24.3)\n",
      "Downloading opencv_python-4.10.0.84-cp37-abi3-win_amd64.whl (38.8 MB)\n",
      "   ---------------------------------------- 0.0/38.8 MB ? eta -:--:--\n",
      "   ---------------------------------------- 0.1/38.8 MB 2.6 MB/s eta 0:00:15\n",
      "   ---------------------------------------- 0.4/38.8 MB 6.1 MB/s eta 0:00:07\n",
      "    --------------------------------------- 0.8/38.8 MB 7.5 MB/s eta 0:00:06\n",
      "   - -------------------------------------- 1.4/38.8 MB 8.8 MB/s eta 0:00:05\n",
      "   -- ------------------------------------- 2.0/38.8 MB 10.5 MB/s eta 0:00:04\n",
      "   --- ------------------------------------ 3.0/38.8 MB 12.9 MB/s eta 0:00:03\n",
      "   ---- ----------------------------------- 4.2/38.8 MB 15.8 MB/s eta 0:00:03\n",
      "   ----- ---------------------------------- 5.6/38.8 MB 17.8 MB/s eta 0:00:02\n",
      "   ------- -------------------------------- 7.6/38.8 MB 23.1 MB/s eta 0:00:02\n",
      "   ---------- ----------------------------- 10.2/38.8 MB 27.1 MB/s eta 0:00:02\n",
      "   -------------- ------------------------- 13.8/38.8 MB 59.5 MB/s eta 0:00:01\n",
      "   ------------------ --------------------- 18.3/38.8 MB 81.8 MB/s eta 0:00:01\n",
      "   ----------------------- ---------------- 22.4/38.8 MB 108.8 MB/s eta 0:00:01\n",
      "   --------------------------- ------------ 26.3/38.8 MB 131.2 MB/s eta 0:00:01\n",
      "   ------------------------------- -------- 30.2/38.8 MB 108.8 MB/s eta 0:00:01\n",
      "   ----------------------------------- ---- 34.2/38.8 MB 93.9 MB/s eta 0:00:01\n",
      "   -------------------------------------- - 37.6/38.8 MB 108.8 MB/s eta 0:00:01\n",
      "   ---------------------------------------  38.8/38.8 MB 93.0 MB/s eta 0:00:01\n",
      "   ---------------------------------------- 38.8/38.8 MB 65.1 MB/s eta 0:00:00\n",
      "Installing collected packages: opencv-python\n",
      "Successfully installed opencv-python-4.10.0.84\n"
     ]
    }
   ],
   "source": [
    "!pip install opencv-python "
   ]
  },
  {
   "cell_type": "code",
   "execution_count": 8,
   "metadata": {
    "id": "1e9GVwvAB9yC"
   },
   "outputs": [
    {
     "name": "stdout",
     "output_type": "stream",
     "text": [
      "C:\\all\\data\\force_200_1\n",
      "402 278\n"
     ]
    },
    {
     "ename": "AttributeError",
     "evalue": "module 'PIL.Image' has no attribute 'ANTIALIAS'",
     "output_type": "error",
     "traceback": [
      "\u001b[1;31m---------------------------------------------------------------------------\u001b[0m",
      "\u001b[1;31mAttributeError\u001b[0m                            Traceback (most recent call last)",
      "Cell \u001b[1;32mIn[8], line 50\u001b[0m\n\u001b[0;32m     47\u001b[0m \u001b[38;5;28mprint\u001b[39m(width, height)\n\u001b[0;32m     49\u001b[0m \u001b[38;5;66;03m# resizing\u001b[39;00m\n\u001b[1;32m---> 50\u001b[0m imResize \u001b[38;5;241m=\u001b[39m im\u001b[38;5;241m.\u001b[39mresize((mean_width, mean_height), Image\u001b[38;5;241m.\u001b[39mANTIALIAS)\n\u001b[0;32m     51\u001b[0m imResize\u001b[38;5;241m.\u001b[39msave( file, \u001b[38;5;124m'\u001b[39m\u001b[38;5;124mJPEG\u001b[39m\u001b[38;5;124m'\u001b[39m, quality \u001b[38;5;241m=\u001b[39m \u001b[38;5;241m100\u001b[39m) \u001b[38;5;66;03m# setting quality\u001b[39;00m\n\u001b[0;32m     52\u001b[0m \u001b[38;5;66;03m# printing each resized image name\u001b[39;00m\n",
      "\u001b[1;31mAttributeError\u001b[0m: module 'PIL.Image' has no attribute 'ANTIALIAS'"
     ]
    }
   ],
   "source": [
    "# importing libraries\n",
    "import os\n",
    "import  cv2\n",
    "from PIL import Image\n",
    "\n",
    "# Checking the current directory path\n",
    "print(os.getcwd())\n",
    "\n",
    "# Folder which contains all the images\n",
    "# from which video is to be generated\n",
    "os.chdir(\"C:\\\\all\\data\\\\force_200_1\")\n",
    "path = \"C:\\\\all\\data\\\\force_200_1\"\n",
    "\n",
    "mean_height = 0\n",
    "mean_width = 0\n",
    "\n",
    "num_of_images = len(os.listdir('C:\\\\all\\data\\\\force_200_1'))\n",
    "# print(num_of_images)\n",
    "\n",
    "for file in os.listdir('C:\\\\all\\data\\\\force_200_1'):\n",
    "\tim = Image.open(os.path.join(path, file))\n",
    "\twidth, height = im.size\n",
    "\tmean_width += width\n",
    "\tmean_height += height\n",
    "\t# im.show() # uncomment this for displaying the image\n",
    "\n",
    "# Finding the mean height and width of all images.\n",
    "# This is required because the video frame needs\n",
    "# to be set with same width and height. Otherwise\n",
    "# images not equal to that width height will not get\n",
    "# embedded into the video\n",
    "mean_width = int(mean_width / num_of_images)\n",
    "mean_height = int(mean_height / num_of_images)\n",
    "\n",
    "# print(mean_height)\n",
    "# print(mean_width)\n",
    "\n",
    "# Resizing of the images to give\n",
    "# them same width and height\n",
    "for file in os.listdir('C:\\\\all\\data\\\\force_200_1'):\n",
    "\tif file.endswith(\".jpg\") or file.endswith(\".jpeg\") or file.endswith(\"png\"):\n",
    "\t\t# opening image using PIL Image\n",
    "\t\tim = Image.open(os.path.join(path, file))\n",
    "\n",
    "\t\t# im.size includes the height and width of image\n",
    "\t\twidth, height = im.size\n",
    "\t\tprint(width, height)\n",
    "\n",
    "\t\t# resizing\n",
    "\t\timResize = im.resize((mean_width, mean_height), Image.ANTIALIAS)\n",
    "\t\timResize.save( file, 'JPEG', quality = 100) # setting quality\n",
    "\t\t# printing each resized image name\n",
    "\t\tprint(im.filename.split('\\\\')[-1], \" is resized\")\n",
    "\n",
    "\n",
    "# Video Generating function\n",
    "def generate_video():\n",
    "\timage_folder = 'C:\\\\all\\data\\\\force_200_1' # make sure to use your folder\n",
    "\tvideo_name = 'Force_200_1.avi'\n",
    "\tos.chdir(\"C:\\\\all\\\\data\")\n",
    "\n",
    "\timages = [img for img in os.listdir(image_folder)\n",
    "\t\t\tif img.endswith(\".jpg\") or\n",
    "\t\t\t\timg.endswith(\".jpeg\") or\n",
    "\t\t\t\timg.endswith(\"png\")]\n",
    "\n",
    "\t# Array images should only consider\n",
    "\t# the image files ignoring others if any\n",
    "\tprint(images)\n",
    "\n",
    "\tframe = cv2.imread(os.path.join(image_folder, images[0]))\n",
    "\n",
    "\t# setting the frame width, height width\n",
    "\t# the width, height of first image\n",
    "\theight, width, layers = frame.shape\n",
    "\n",
    "\tvideo = cv2.VideoWriter(video_name, 0, 1, (width, height))\n",
    "\n",
    "\t# Appending the images to the video one by one\n",
    "\tfor image in images:\n",
    "\t\tvideo.write(cv2.imread(os.path.join(image_folder, image)))\n",
    "\n",
    "\t# Deallocating memories taken for window creation\n",
    "\tcv2.destroyAllWindows()\n",
    "\tvideo.release() # releasing the video generated\n",
    "\n",
    "\n",
    "# Calling the generate_video function\n",
    "generate_video()\n"
   ]
  },
  {
   "cell_type": "code",
   "execution_count": 11,
   "metadata": {
    "id": "LoXtBAOlB-eV"
   },
   "outputs": [
    {
     "name": "stdout",
     "output_type": "stream",
     "text": [
      "Video created successfully: output_video.avi\n"
     ]
    }
   ],
   "source": [
    "import cv2\n",
    "import os\n",
    "from imageio import imread, mimwrite\n",
    "# Define the folder where your images are stored\n",
    "image_folder = 'C:\\\\all\\data\\\\force_200_1_all'\n",
    "video_name = 'output_video.avi'  # Name of the output video file\n",
    "\n",
    "# Get all the image files from the folder (ensure they're sorted)\n",
    "images = [img for img in os.listdir(image_folder) if img.endswith(\".png\") or img.endswith(\".jpg\")]\n",
    "images.sort()  # Sort to maintain sequence order\n",
    "\n",
    "# Read the first image to get the frame size\n",
    "frame = cv2.imread(os.path.join(image_folder, images[0]))\n",
    "height, width, layers = frame.shape\n",
    "\n",
    "# Create a VideoWriter object\n",
    "fourcc = cv2.VideoWriter_fourcc(*'DIVX')  # You can change codec if needed\n",
    "video = cv2.VideoWriter(video_name, fourcc, 60, (width, height))  # Set fps (1 frame per second in this case)\n",
    "\n",
    "# Loop over all images and write them to the video\n",
    "for image in images:\n",
    "    img_path = os.path.join(image_folder, image)\n",
    "    frame = cv2.imread(img_path)\n",
    "    video.write(frame)\n",
    "\n",
    "# Release the VideoWriter object\n",
    "video.release()\n",
    "\n",
    "print(f\"Video created successfully: {video_name}\")\n"
   ]
  },
  {
   "cell_type": "code",
   "execution_count": null,
   "metadata": {},
   "outputs": [],
   "source": []
  },
  {
   "cell_type": "code",
   "execution_count": 7,
   "metadata": {},
   "outputs": [],
   "source": [
    "from imageio.v2 import imread, mimwrite\n",
    "path_preds = r'C:\\all\\data\\force_stroke_100_1'\n",
    "preds_listU=[]\n",
    "imgs_predsU = [os.path.join(path_preds,f\"fig_stroke_1{i}.png\") for i in range(1,488) ]\n",
    "\n",
    "#f1 = imread(imgs_predsU[1])\n",
    "#preds_listU.append(f1)\n",
    "for i,file_name in enumerate(imgs_predsU):\n",
    "    f = imread(file_name)\n",
    "    \n",
    "    #if f.shape != f1.shape:\n",
    "        #print(imgs_predsU[i])\n",
    "    \n",
    "    preds_listU.append(f)\n",
    "    \n",
    "mimwrite(path_preds + '/force_stroke_100_1.gif', preds_listU, fps=60)\n"
   ]
  },
  {
   "cell_type": "code",
   "execution_count": 2,
   "metadata": {},
   "outputs": [],
   "source": [
    "import os"
   ]
  },
  {
   "cell_type": "code",
   "execution_count": null,
   "metadata": {},
   "outputs": [],
   "source": []
  }
 ],
 "metadata": {
  "colab": {
   "authorship_tag": "ABX9TyMira6ffHCm9VLntVuBewzl",
   "provenance": []
  },
  "kernelspec": {
   "display_name": "Python 3 (ipykernel)",
   "language": "python",
   "name": "python3"
  },
  "language_info": {
   "codemirror_mode": {
    "name": "ipython",
    "version": 3
   },
   "file_extension": ".py",
   "mimetype": "text/x-python",
   "name": "python",
   "nbconvert_exporter": "python",
   "pygments_lexer": "ipython3",
   "version": "3.10.11"
  }
 },
 "nbformat": 4,
 "nbformat_minor": 4
}
