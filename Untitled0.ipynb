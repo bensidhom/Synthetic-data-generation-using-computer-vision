{
  "nbformat": 4,
  "nbformat_minor": 0,
  "metadata": {
    "colab": {
      "provenance": [],
      "gpuType": "T4"
    },
    "kernelspec": {
      "name": "python3",
      "display_name": "Python 3"
    },
    "language_info": {
      "name": "python"
    },
    "accelerator": "GPU"
  },
  "cells": [
    {
      "cell_type": "code",
      "execution_count": null,
      "metadata": {
        "colab": {
          "base_uri": "https://localhost:8080/"
        },
        "id": "QjkUxmnlg7tP",
        "outputId": "f3b58e71-3975-4aac-e51e-5277cff34dc7"
      },
      "outputs": [
        {
          "output_type": "stream",
          "name": "stdout",
          "text": [
            "test took: 2.0026910305023193 units time\n",
            "test took: 1.2494335174560547 units time\n",
            "test took: 1.2194726467132568 units time\n",
            "test took: 1.2087647914886475 units time\n",
            "test took: 1.1937265396118164 units time\n",
            "average time = 1.3753032684326172\n"
          ]
        }
      ],
      "source": [
        "import time\n",
        "\n",
        "t=[]\n",
        "\n",
        "for j in range(5):\n",
        "    l = []\n",
        "\n",
        "    pTime = time.time()\n",
        "\n",
        "    for i in range(10000000):\n",
        "        l.append(i)\n",
        "\n",
        "    print('test took: ' + str(time.time() - pTime) + ' units time')\n",
        "    t.append(time.time() - pTime)\n",
        "\n",
        "s = 0\n",
        "for i in t:\n",
        "    s = s + i\n",
        "\n",
        "print('average time = ' + str(s/len(t)))"
      ]
    },
    {
      "cell_type": "code",
      "source": [
        "from numba import jit, cuda\n",
        "import numpy as np\n",
        "# to measure exec time\n",
        "from timeit import default_timer as timer\n",
        "\n",
        "# normal function to run on cpu\n",
        "def func(a):\n",
        "    for i in range(10000000):\n",
        "        a[i]+= 1\n",
        "\n",
        "# function optimized to run on gpu\n",
        "@jit(target_backend='cuda')\n",
        "def func2(a):\n",
        "    for i in range(10000000):\n",
        "        a[i]+= 1\n",
        "if __name__==\"__main__\":\n",
        "    n = 10000000\n",
        "    a = np.ones(n, dtype = np.float64)\n",
        "\n",
        "    start = timer()\n",
        "    func(a)\n",
        "    print(\"without GPU:\", timer()-start)\n",
        "\n",
        "    start = timer()\n",
        "    func2(a)\n",
        "    print(\"with GPU:\", timer()-start)"
      ],
      "metadata": {
        "colab": {
          "base_uri": "https://localhost:8080/"
        },
        "id": "B4vXVqBakRqk",
        "outputId": "dccf3993-016a-43e5-a195-cc3be6bab7c2"
      },
      "execution_count": null,
      "outputs": [
        {
          "output_type": "stream",
          "name": "stderr",
          "text": [
            "<ipython-input-10-793a3f9a0994>:12: NumbaDeprecationWarning: The 'nopython' keyword argument was not supplied to the 'numba.jit' decorator. The implicit default value for this argument is currently False, but it will be changed to True in Numba 0.59.0. See https://numba.readthedocs.io/en/stable/reference/deprecation.html#deprecation-of-object-mode-fall-back-behaviour-when-using-jit for details.\n",
            "  @jit(target_backend='cuda')\n"
          ]
        },
        {
          "output_type": "stream",
          "name": "stdout",
          "text": [
            "without GPU: 2.5346158720000176\n",
            "with GPU: 0.07326684100007697\n"
          ]
        }
      ]
    },
    {
      "cell_type": "code",
      "source": [
        "from multiprocessing import Pool, cpu_count\n",
        "from datetime import datetime\n",
        "\n",
        "def stress_test(args):\n",
        "    cpu, value = args\n",
        "    start_time = datetime.now()\n",
        "    for i in range(value):\n",
        "        value = value * i\n",
        "    print(f\"cpu: {cpu} time: {datetime.now() - start_time}\")\n",
        "\n",
        "if __name__ == '__main__':\n",
        "    start_time = datetime.now()\n",
        "    cpu_count = cpu_count()\n",
        "    with Pool(cpu_count) as mp_pool:\n",
        "        mp_pool.map(stress_test, [(cpu, 100000000) for cpu in range(cpu_count)])\n",
        "    print(f\"total: {datetime.now() - start_time}\")"
      ],
      "metadata": {
        "colab": {
          "base_uri": "https://localhost:8080/"
        },
        "id": "I8RDV-HDhZVK",
        "outputId": "c88e1848-560a-43f3-bd80-562f06db49cd"
      },
      "execution_count": null,
      "outputs": [
        {
          "output_type": "stream",
          "name": "stdout",
          "text": [
            "cpu: 0 time: 0:00:10.269912\n",
            "cpu: 1 time: 0:00:10.328399\n",
            "total: 0:00:10.397799\n"
          ]
        }
      ]
    }
  ]
}